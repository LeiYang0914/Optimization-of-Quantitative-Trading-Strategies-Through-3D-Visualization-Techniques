{
 "cells": [
  {
   "cell_type": "markdown",
   "id": "34f6b209-8f66-4849-aa7a-2b831671e9da",
   "metadata": {},
   "source": [
    "## Extract 12 hours data "
   ]
  },
  {
   "cell_type": "code",
   "execution_count": null,
   "id": "b923959c-eaf6-4df6-988d-e8f4c432f7c9",
   "metadata": {},
   "outputs": [],
   "source": [
    "## need to use vpn"
   ]
  },
  {
   "cell_type": "code",
   "execution_count": 14,
   "id": "efeb9fbd-c6a1-4f1c-8653-33bdbb4a019d",
   "metadata": {},
   "outputs": [
    {
     "name": "stdout",
     "output_type": "stream",
     "text": [
      "                     Date      Open      High       Low     Close       Volume\n",
      "0     2020-05-11 00:00:00   8722.77   8805.14   8696.00   8770.16  3812.842913\n",
      "1     2020-05-11 01:00:00   8770.15   8775.00   8684.90   8713.41  2206.729701\n",
      "2     2020-05-11 02:00:00   8711.93   8761.18   8690.00   8748.07  1879.771451\n",
      "3     2020-05-11 03:00:00   8747.18   8768.00   8658.56   8696.64  2742.314421\n",
      "4     2020-05-11 04:00:00   8696.24   8710.76   8620.00   8634.53  2670.660752\n",
      "...                   ...       ...       ...       ...       ...          ...\n",
      "37258 2024-08-11 09:00:00  61260.43  61858.00  61001.01  61110.00  1468.802830\n",
      "37259 2024-08-11 10:00:00  61110.00  61263.14  60946.11  61037.63   453.805540\n",
      "37260 2024-08-11 11:00:00  61037.64  61063.02  60425.00  60669.15  1157.158610\n",
      "37261 2024-08-11 12:00:00  60669.14  60700.00  60228.21  60492.09   749.084900\n",
      "37262 2024-08-11 13:00:00  60492.10  60495.39  60167.22  60336.51   630.526820\n",
      "\n",
      "[37263 rows x 6 columns]\n"
     ]
    }
   ],
   "source": [
    "import ccxt\n",
    "import pandas as pd\n",
    "from datetime import datetime\n",
    "\n",
    "# Initialize the exchange\n",
    "exchange = ccxt.binance()\n",
    "\n",
    "# Parameters\n",
    "symbol = 'BTC/USDT'\n",
    "timeframe = '1h'\n",
    "since = exchange.parse8601('2020-05-11T00:00:00Z')\n",
    "now = exchange.milliseconds()\n",
    "\n",
    "# List to hold fetched data\n",
    "all_ohlcv = []\n",
    "\n",
    "# Fetch data in chunks\n",
    "while since < now:\n",
    "    try:\n",
    "        ohlcv = exchange.fetch_ohlcv(symbol, timeframe, since)\n",
    "        if not ohlcv:\n",
    "            break\n",
    "        all_ohlcv += ohlcv\n",
    "        # Update since to the last timestamp + 1 millisecond to avoid duplication\n",
    "        since = ohlcv[-1][0] + 1\n",
    "    except ccxt.NetworkError as e:\n",
    "        print(f'NetworkError: {str(e)}. Retrying...')\n",
    "    except ccxt.ExchangeError as e:\n",
    "        print(f'ExchangeError: {str(e)}. Retrying...')\n",
    "    except Exception as e:\n",
    "        print(f'Error: {str(e)}. Stopping...')\n",
    "        break\n",
    "\n",
    "# Convert to DataFrame for easy analysis\n",
    "df = pd.DataFrame(all_ohlcv, columns=['Date', 'Open', 'High', 'Low', 'Close', 'Volume'])\n",
    "df['Date'] = pd.to_datetime(df['Date'], unit='ms')\n",
    "\n",
    "print(df)\n"
   ]
  },
  {
   "cell_type": "code",
   "execution_count": 18,
   "id": "9357b1d8-003c-444f-bcde-7167d343a38a",
   "metadata": {},
   "outputs": [],
   "source": [
    "df.to_csv('btc_1H_may2020_to_current.csv')"
   ]
  },
  {
   "cell_type": "code",
   "execution_count": null,
   "id": "b57299f0-d526-4ec3-8904-aee161385ab8",
   "metadata": {},
   "outputs": [],
   "source": []
  }
 ],
 "metadata": {
  "kernelspec": {
   "display_name": "Python 3 (ipykernel)",
   "language": "python",
   "name": "python3"
  },
  "language_info": {
   "codemirror_mode": {
    "name": "ipython",
    "version": 3
   },
   "file_extension": ".py",
   "mimetype": "text/x-python",
   "name": "python",
   "nbconvert_exporter": "python",
   "pygments_lexer": "ipython3",
   "version": "3.12.3"
  }
 },
 "nbformat": 4,
 "nbformat_minor": 5
}
